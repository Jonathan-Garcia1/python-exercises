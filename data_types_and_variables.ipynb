{
 "cells": [
  {
   "cell_type": "markdown",
   "id": "1e1a65af",
   "metadata": {},
   "source": [
    "Identify the data type of the following values:"
   ]
  },
  {
   "cell_type": "code",
   "execution_count": 145,
   "id": "3f1287d9",
   "metadata": {},
   "outputs": [
    {
     "data": {
      "text/plain": [
       "dict"
      ]
     },
     "execution_count": 145,
     "metadata": {},
     "output_type": "execute_result"
    }
   ],
   "source": [
    "type(99.9),\n",
    "\n",
    "type(\"False\"),\n",
    "\n",
    "type(False),\n",
    "\n",
    "type('0'),\n",
    "\n",
    "type(0),\n",
    "\n",
    "type(True),\n",
    "\n",
    "type('True'),\n",
    "\n",
    "type([{}]),\n",
    "\n",
    "type({'a': []})"
   ]
  },
  {
   "cell_type": "code",
   "execution_count": 4,
   "id": "f109821d",
   "metadata": {},
   "outputs": [
    {
     "data": {
      "text/plain": [
       "float"
      ]
     },
     "execution_count": 4,
     "metadata": {},
     "output_type": "execute_result"
    }
   ],
   "source": [
    "type(99.9)"
   ]
  },
  {
   "cell_type": "code",
   "execution_count": 10,
   "id": "0c5a1bed",
   "metadata": {},
   "outputs": [
    {
     "data": {
      "text/plain": [
       "str"
      ]
     },
     "execution_count": 10,
     "metadata": {},
     "output_type": "execute_result"
    }
   ],
   "source": [
    "type(\"False\")"
   ]
  },
  {
   "cell_type": "code",
   "execution_count": 9,
   "id": "fbdd75e6",
   "metadata": {},
   "outputs": [
    {
     "data": {
      "text/plain": [
       "bool"
      ]
     },
     "execution_count": 9,
     "metadata": {},
     "output_type": "execute_result"
    }
   ],
   "source": [
    "type(False)"
   ]
  },
  {
   "cell_type": "code",
   "execution_count": 11,
   "id": "ff7734ca",
   "metadata": {},
   "outputs": [
    {
     "data": {
      "text/plain": [
       "str"
      ]
     },
     "execution_count": 11,
     "metadata": {},
     "output_type": "execute_result"
    }
   ],
   "source": [
    "type('0')"
   ]
  },
  {
   "cell_type": "code",
   "execution_count": 12,
   "id": "2e2af227",
   "metadata": {},
   "outputs": [
    {
     "data": {
      "text/plain": [
       "int"
      ]
     },
     "execution_count": 12,
     "metadata": {},
     "output_type": "execute_result"
    }
   ],
   "source": [
    "type(0)"
   ]
  },
  {
   "cell_type": "code",
   "execution_count": 13,
   "id": "35f018a7",
   "metadata": {},
   "outputs": [
    {
     "data": {
      "text/plain": [
       "bool"
      ]
     },
     "execution_count": 13,
     "metadata": {},
     "output_type": "execute_result"
    }
   ],
   "source": [
    "type(True)"
   ]
  },
  {
   "cell_type": "code",
   "execution_count": 14,
   "id": "193a7b06",
   "metadata": {},
   "outputs": [
    {
     "data": {
      "text/plain": [
       "str"
      ]
     },
     "execution_count": 14,
     "metadata": {},
     "output_type": "execute_result"
    }
   ],
   "source": [
    "type('True')"
   ]
  },
  {
   "cell_type": "code",
   "execution_count": 15,
   "id": "189a582d",
   "metadata": {},
   "outputs": [
    {
     "data": {
      "text/plain": [
       "list"
      ]
     },
     "execution_count": 15,
     "metadata": {},
     "output_type": "execute_result"
    }
   ],
   "source": [
    "type([{}])"
   ]
  },
  {
   "cell_type": "code",
   "execution_count": 16,
   "id": "bbb81474",
   "metadata": {},
   "outputs": [
    {
     "data": {
      "text/plain": [
       "dict"
      ]
     },
     "execution_count": 16,
     "metadata": {},
     "output_type": "execute_result"
    }
   ],
   "source": [
    "type({'a': []})"
   ]
  },
  {
   "cell_type": "markdown",
   "id": "8205c839",
   "metadata": {},
   "source": [
    "### 2 What data type would best represent the following?\n",
    "\n",
    "#### A term or phrase typed into a search box\n",
    "string or str\n",
    "\n",
    "#### Whether or not a user is logged in\n",
    "boolean or bool\n",
    "\n",
    "#### A discount amount to apply to a user's shopping cart\n",
    "float\n",
    "\n",
    "#### Whether or not a coupon code is valid\n",
    "boolean or bool\n",
    "\n",
    "#### An email address typed into a registration form\n",
    "string or str\n",
    "\n",
    "#### The price of a product\n",
    "integer / int or float\n",
    "\n",
    "#### The email addresses collected from a registration form\n",
    "string or list\n",
    "\n",
    "#### Information about applicants to Codeup's data science program\n",
    "Dictionary or dict"
   ]
  },
  {
   "cell_type": "markdown",
   "id": "dd10552e",
   "metadata": {},
   "source": [
    "### 3 For each of the following code blocks:\n",
    "\n",
    "Read the expression and predict the evaluated results\n",
    "\n",
    "Execute the expression in a Python REPL."
   ]
  },
  {
   "cell_type": "code",
   "execution_count": 17,
   "id": "89b56e8b",
   "metadata": {},
   "outputs": [
    {
     "ename": "TypeError",
     "evalue": "can only concatenate str (not \"int\") to str",
     "output_type": "error",
     "traceback": [
      "\u001b[0;31m---------------------------------------------------------------------------\u001b[0m",
      "\u001b[0;31mTypeError\u001b[0m                                 Traceback (most recent call last)",
      "Cell \u001b[0;32mIn[17], line 1\u001b[0m\n\u001b[0;32m----> 1\u001b[0m \u001b[38;5;124;43m'\u001b[39;49m\u001b[38;5;124;43m1\u001b[39;49m\u001b[38;5;124;43m'\u001b[39;49m\u001b[43m \u001b[49m\u001b[38;5;241;43m+\u001b[39;49m\u001b[43m \u001b[49m\u001b[38;5;241;43m2\u001b[39;49m\n",
      "\u001b[0;31mTypeError\u001b[0m: can only concatenate str (not \"int\") to str"
     ]
    }
   ],
   "source": [
    "'1' + 2\n",
    "#error cant add to a string, only multiply"
   ]
  },
  {
   "cell_type": "code",
   "execution_count": 19,
   "id": "583c6f05",
   "metadata": {},
   "outputs": [
    {
     "data": {
      "text/plain": [
       "2"
      ]
     },
     "execution_count": 19,
     "metadata": {},
     "output_type": "execute_result"
    }
   ],
   "source": [
    "6 % 4\n",
    "#2 the remainder "
   ]
  },
  {
   "cell_type": "code",
   "execution_count": 20,
   "id": "4d1567b1",
   "metadata": {},
   "outputs": [
    {
     "data": {
      "text/plain": [
       "int"
      ]
     },
     "execution_count": 20,
     "metadata": {},
     "output_type": "execute_result"
    }
   ],
   "source": [
    "type(6 % 4)\n",
    "#int because 2 would be a whole number"
   ]
  },
  {
   "cell_type": "code",
   "execution_count": 23,
   "id": "9cd47ec3",
   "metadata": {},
   "outputs": [
    {
     "data": {
      "text/plain": [
       "type"
      ]
     },
     "execution_count": 23,
     "metadata": {},
     "output_type": "execute_result"
    }
   ],
   "source": [
    "type(type(6 % 4))\n",
    "#string because 'int' would be the result of type(6 % 4)\n",
    "#was wrong, python recognized key int as a type"
   ]
  },
  {
   "cell_type": "code",
   "execution_count": 24,
   "id": "c2c2e9a9",
   "metadata": {},
   "outputs": [
    {
     "ename": "TypeError",
     "evalue": "can only concatenate str (not \"int\") to str",
     "output_type": "error",
     "traceback": [
      "\u001b[0;31m---------------------------------------------------------------------------\u001b[0m",
      "\u001b[0;31mTypeError\u001b[0m                                 Traceback (most recent call last)",
      "Cell \u001b[0;32mIn[24], line 1\u001b[0m\n\u001b[0;32m----> 1\u001b[0m \u001b[38;5;124;43m'\u001b[39;49m\u001b[38;5;124;43m3 + 4 is \u001b[39;49m\u001b[38;5;124;43m'\u001b[39;49m\u001b[43m \u001b[49m\u001b[38;5;241;43m+\u001b[39;49m\u001b[43m \u001b[49m\u001b[38;5;241;43m3\u001b[39;49m \u001b[38;5;241m+\u001b[39m \u001b[38;5;241m4\u001b[39m\n",
      "\u001b[0;31mTypeError\u001b[0m: can only concatenate str (not \"int\") to str"
     ]
    }
   ],
   "source": [
    "'3 + 4 is ' + 3 + 4\n",
    "#error, cant add numbers to a string"
   ]
  },
  {
   "cell_type": "code",
   "execution_count": 25,
   "id": "0ac284b3",
   "metadata": {},
   "outputs": [
    {
     "data": {
      "text/plain": [
       "False"
      ]
     },
     "execution_count": 25,
     "metadata": {},
     "output_type": "execute_result"
    }
   ],
   "source": [
    "0 < 0\n",
    "#false 0 is not less than 0"
   ]
  },
  {
   "cell_type": "code",
   "execution_count": 26,
   "id": "1108824e",
   "metadata": {},
   "outputs": [
    {
     "data": {
      "text/plain": [
       "False"
      ]
     },
     "execution_count": 26,
     "metadata": {},
     "output_type": "execute_result"
    }
   ],
   "source": [
    "'False' == False\n",
    "#false a string is not equal to False"
   ]
  },
  {
   "cell_type": "code",
   "execution_count": 27,
   "id": "c8a590c4",
   "metadata": {},
   "outputs": [
    {
     "data": {
      "text/plain": [
       "False"
      ]
     },
     "execution_count": 27,
     "metadata": {},
     "output_type": "execute_result"
    }
   ],
   "source": [
    "True == 'True'\n",
    "#false True is not equal to a string"
   ]
  },
  {
   "cell_type": "code",
   "execution_count": 28,
   "id": "61398b86",
   "metadata": {},
   "outputs": [
    {
     "data": {
      "text/plain": [
       "True"
      ]
     },
     "execution_count": 28,
     "metadata": {},
     "output_type": "execute_result"
    }
   ],
   "source": [
    "5 >= -5\n",
    "#true 5 is greater or equal to -5"
   ]
  },
  {
   "cell_type": "code",
   "execution_count": 30,
   "id": "91170a51",
   "metadata": {},
   "outputs": [
    {
     "data": {
      "text/plain": [
       "True"
      ]
     },
     "execution_count": 30,
     "metadata": {},
     "output_type": "execute_result"
    }
   ],
   "source": [
    "True or \"42\"\n",
    "#True because True IS True even if '42' is NOT True because of OR"
   ]
  },
  {
   "cell_type": "code",
   "execution_count": 31,
   "id": "d6f5fc89",
   "metadata": {},
   "outputs": [
    {
     "data": {
      "text/plain": [
       "1"
      ]
     },
     "execution_count": 31,
     "metadata": {},
     "output_type": "execute_result"
    }
   ],
   "source": [
    "6 % 5\n",
    "#1 remainder"
   ]
  },
  {
   "cell_type": "code",
   "execution_count": 32,
   "id": "f07543d0",
   "metadata": {},
   "outputs": [
    {
     "data": {
      "text/plain": [
       "False"
      ]
     },
     "execution_count": 32,
     "metadata": {},
     "output_type": "execute_result"
    }
   ],
   "source": [
    "5 < 4 and 1 == 1\n",
    "#False because 5 is not less than 4  AND 1 IS equal to 1"
   ]
  },
  {
   "cell_type": "code",
   "execution_count": 35,
   "id": "d5e7740d",
   "metadata": {},
   "outputs": [
    {
     "data": {
      "text/plain": [
       "False"
      ]
     },
     "execution_count": 35,
     "metadata": {},
     "output_type": "execute_result"
    }
   ],
   "source": [
    "'codeup' == 'codeup' and 'codeup' == 'Codeup'\n",
    "#False, the equal checks for capitalization"
   ]
  },
  {
   "cell_type": "code",
   "execution_count": 38,
   "id": "624b9dd4",
   "metadata": {},
   "outputs": [
    {
     "ename": "SyntaxError",
     "evalue": "invalid syntax (3280197742.py, line 1)",
     "output_type": "error",
     "traceback": [
      "\u001b[0;36m  Cell \u001b[0;32mIn[38], line 1\u001b[0;36m\u001b[0m\n\u001b[0;31m    4 >= 0 and 1 !== '1'\u001b[0m\n\u001b[0m                   ^\u001b[0m\n\u001b[0;31mSyntaxError\u001b[0m\u001b[0;31m:\u001b[0m invalid syntax\n"
     ]
    }
   ],
   "source": [
    "4 >= 0 and 1 !== '1'\n",
    "#True, 4 IS greater or equal to 0 AND 1 is not equal to '1'\n",
    "#Wrong, its error. "
   ]
  },
  {
   "cell_type": "code",
   "execution_count": 41,
   "id": "9c9d7c55",
   "metadata": {},
   "outputs": [
    {
     "data": {
      "text/plain": [
       "True"
      ]
     },
     "execution_count": 41,
     "metadata": {},
     "output_type": "execute_result"
    }
   ],
   "source": [
    "6 % 3 == 0\n",
    "#True 6/3=2 and 0 remainder IS equal to 0"
   ]
  },
  {
   "cell_type": "code",
   "execution_count": 42,
   "id": "baa10390",
   "metadata": {},
   "outputs": [
    {
     "data": {
      "text/plain": [
       "True"
      ]
     },
     "execution_count": 42,
     "metadata": {},
     "output_type": "execute_result"
    }
   ],
   "source": [
    "5 % 2 != 0\n",
    "#true, 5/2=2 remainder 1 IS NOT equal to 0"
   ]
  },
  {
   "cell_type": "code",
   "execution_count": 44,
   "id": "9c692ab2",
   "metadata": {},
   "outputs": [
    {
     "ename": "TypeError",
     "evalue": "can only concatenate list (not \"int\") to list",
     "output_type": "error",
     "traceback": [
      "\u001b[0;31m---------------------------------------------------------------------------\u001b[0m",
      "\u001b[0;31mTypeError\u001b[0m                                 Traceback (most recent call last)",
      "Cell \u001b[0;32mIn[44], line 1\u001b[0m\n\u001b[0;32m----> 1\u001b[0m \u001b[43m[\u001b[49m\u001b[38;5;241;43m1\u001b[39;49m\u001b[43m]\u001b[49m\u001b[43m \u001b[49m\u001b[38;5;241;43m+\u001b[39;49m\u001b[43m \u001b[49m\u001b[38;5;241;43m2\u001b[39;49m\n",
      "\u001b[0;31mTypeError\u001b[0m: can only concatenate list (not \"int\") to list"
     ]
    }
   ],
   "source": [
    "[1] + 2\n",
    "#Error, can not add a number to a list"
   ]
  },
  {
   "cell_type": "code",
   "execution_count": 46,
   "id": "4afc3c6d",
   "metadata": {},
   "outputs": [
    {
     "data": {
      "text/plain": [
       "[1, 2]"
      ]
     },
     "execution_count": 46,
     "metadata": {},
     "output_type": "execute_result"
    }
   ],
   "source": [
    "[1] + [2]\n",
    "# [1,2]"
   ]
  },
  {
   "cell_type": "code",
   "execution_count": 48,
   "id": "215a8781",
   "metadata": {},
   "outputs": [
    {
     "data": {
      "text/plain": [
       "[1, 1]"
      ]
     },
     "execution_count": 48,
     "metadata": {},
     "output_type": "execute_result"
    }
   ],
   "source": [
    "[1] * 2\n",
    "#[1,1]"
   ]
  },
  {
   "cell_type": "code",
   "execution_count": 49,
   "id": "736eedcb",
   "metadata": {},
   "outputs": [
    {
     "ename": "TypeError",
     "evalue": "can't multiply sequence by non-int of type 'list'",
     "output_type": "error",
     "traceback": [
      "\u001b[0;31m---------------------------------------------------------------------------\u001b[0m",
      "\u001b[0;31mTypeError\u001b[0m                                 Traceback (most recent call last)",
      "Cell \u001b[0;32mIn[49], line 1\u001b[0m\n\u001b[0;32m----> 1\u001b[0m \u001b[43m[\u001b[49m\u001b[38;5;241;43m1\u001b[39;49m\u001b[43m]\u001b[49m\u001b[43m \u001b[49m\u001b[38;5;241;43m*\u001b[39;49m\u001b[43m \u001b[49m\u001b[43m[\u001b[49m\u001b[38;5;241;43m2\u001b[39;49m\u001b[43m]\u001b[49m\n",
      "\u001b[0;31mTypeError\u001b[0m: can't multiply sequence by non-int of type 'list'"
     ]
    }
   ],
   "source": [
    "[1] * [2]\n",
    "#[1,1]"
   ]
  },
  {
   "cell_type": "code",
   "execution_count": 50,
   "id": "22031e7e",
   "metadata": {},
   "outputs": [
    {
     "data": {
      "text/plain": [
       "True"
      ]
     },
     "execution_count": 50,
     "metadata": {},
     "output_type": "execute_result"
    }
   ],
   "source": [
    "[] + [] == []\n",
    "#true"
   ]
  },
  {
   "cell_type": "code",
   "execution_count": 52,
   "id": "c0a740ce",
   "metadata": {},
   "outputs": [
    {
     "ename": "TypeError",
     "evalue": "unsupported operand type(s) for +: 'dict' and 'dict'",
     "output_type": "error",
     "traceback": [
      "\u001b[0;31m---------------------------------------------------------------------------\u001b[0m",
      "\u001b[0;31mTypeError\u001b[0m                                 Traceback (most recent call last)",
      "Cell \u001b[0;32mIn[52], line 1\u001b[0m\n\u001b[0;32m----> 1\u001b[0m \u001b[43m{\u001b[49m\u001b[43m}\u001b[49m\u001b[43m \u001b[49m\u001b[38;5;241;43m+\u001b[39;49m\u001b[43m \u001b[49m\u001b[43m{\u001b[49m\u001b[43m}\u001b[49m\n",
      "\u001b[0;31mTypeError\u001b[0m: unsupported operand type(s) for +: 'dict' and 'dict'"
     ]
    }
   ],
   "source": [
    "{} + {}\n",
    "#who knows!"
   ]
  },
  {
   "cell_type": "code",
   "execution_count": 54,
   "id": "956be34e",
   "metadata": {},
   "outputs": [
    {
     "data": {
      "text/plain": [
       "type"
      ]
     },
     "execution_count": 54,
     "metadata": {},
     "output_type": "execute_result"
    }
   ],
   "source": [
    "type(int)\n",
    "#same as type(type(6 % 4)), type"
   ]
  },
  {
   "cell_type": "markdown",
   "id": "9e309a94",
   "metadata": {},
   "source": [
    "#### 4 Describe the following scenarios. You will need to create and assign variables and use operators.\n",
    "\n",
    "#### 5 You have rented some movies for your kids:\n",
    "\n",
    "The Little Mermaid for 3 days\n",
    "Brother Bear for 5 days\n",
    "Hercules for 1 day\n",
    "If the daily fee to rent a movie is 3 dollars, how much will you have to pay?\n",
    "\n"
   ]
  },
  {
   "cell_type": "code",
   "execution_count": 79,
   "id": "37c26e6f",
   "metadata": {},
   "outputs": [
    {
     "name": "stdout",
     "output_type": "stream",
     "text": [
      "{'The Little Mermaid': 3, 'days Brother Bear': 5, 'days Hercules': 1}\n"
     ]
    }
   ],
   "source": [
    "rent_list = {'The Little Mermaid': 3, 'days Brother Bear': 5, 'days Hercules': 1}\n",
    "print(rent_list)"
   ]
  },
  {
   "cell_type": "code",
   "execution_count": 85,
   "id": "37d7f2a8",
   "metadata": {},
   "outputs": [
    {
     "data": {
      "text/plain": [
       "27"
      ]
     },
     "execution_count": 85,
     "metadata": {},
     "output_type": "execute_result"
    }
   ],
   "source": [
    "sum( rent_list.values() ) * 3"
   ]
  },
  {
   "cell_type": "markdown",
   "id": "77f21367",
   "metadata": {},
   "source": [
    "#### 6 Suppose you're working as a contractor for 3 companies: Google, Amazon and Facebook.\n",
    "\n",
    "They pay you the following hourly rates:\n",
    "\n",
    "0) Google: 400 dollars\n",
    "0) Amazon: 380 dollars\n",
    "0) Facebook: 350 dollars\n",
    "\n",
    "This week you worked: 10 hours for Facebook, 6 hours for Google and 4 hours for Amazon.\n",
    "\n",
    "How much will you receive in payment for this week?"
   ]
  },
  {
   "cell_type": "code",
   "execution_count": 75,
   "id": "e7b21849",
   "metadata": {},
   "outputs": [
    {
     "name": "stdout",
     "output_type": "stream",
     "text": [
      "{'Google': 400, 'Amazon': 380, 'Facebook': 350}\n"
     ]
    }
   ],
   "source": [
    "pay_rate = {'Google': 400, 'Amazon': 380, 'Facebook': 350}\n",
    "print(pay_rate)"
   ]
  },
  {
   "cell_type": "code",
   "execution_count": 86,
   "id": "7a4cb1d8",
   "metadata": {},
   "outputs": [
    {
     "data": {
      "text/plain": [
       "7420"
      ]
     },
     "execution_count": 86,
     "metadata": {},
     "output_type": "execute_result"
    }
   ],
   "source": [
    "(pay_rate['Google']*6) + (pay_rate['Amazon']* 4) + (pay_rate['Facebook']*10)"
   ]
  },
  {
   "cell_type": "markdown",
   "id": "0f372eb4",
   "metadata": {},
   "source": [
    "#### 7. A student can be enrolled to a class only if the class is not full and the class schedule does not conflict with her current schedule."
   ]
  },
  {
   "cell_type": "code",
   "execution_count": 90,
   "id": "36cba327",
   "metadata": {},
   "outputs": [
    {
     "name": "stdout",
     "output_type": "stream",
     "text": [
      "{'name': 'John', 'period one': 'Algebra', 'period two': '', 'period three': 'Psychology', 'period four': ''}\n",
      "{'name': 'John', 'period one': 'Algebra', 'period two': '', 'period three': 'Psychology', 'period four': ''}\n"
     ]
    }
   ],
   "source": [
    "student_info = {'name': 'John', 'period one': 'Algebra', 'period two': '', 'period three': 'Psychology', 'period four': ''}\n",
    "class_info = {'name': 'Chemestry', 'period': 'period two'}\n",
    "\n",
    "print(student_info)\n",
    "print(student_info)"
   ]
  },
  {
   "cell_type": "code",
   "execution_count": 91,
   "id": "cf265de1",
   "metadata": {},
   "outputs": [
    {
     "data": {
      "text/plain": [
       "True"
      ]
     },
     "execution_count": 91,
     "metadata": {},
     "output_type": "execute_result"
    }
   ],
   "source": [
    "class_info['name'] != student_info[class_info['period']]"
   ]
  },
  {
   "cell_type": "markdown",
   "id": "6a5eade5",
   "metadata": {},
   "source": [
    "#### 8. A product offer can be applied only if people buys more than 2 items, and the offer has not expired. Premium members do not need to buy a specific amount of products."
   ]
  },
  {
   "cell_type": "code",
   "execution_count": 94,
   "id": "d487590f",
   "metadata": {},
   "outputs": [],
   "source": [
    "customer_order = {'items': 2, 'membership': 'standard'}\n",
    "coupon_info = {'Valid': True, 'min_qty': 2}"
   ]
  },
  {
   "cell_type": "code",
   "execution_count": 148,
   "id": "25e810b4",
   "metadata": {},
   "outputs": [
    {
     "data": {
      "text/plain": [
       "True"
      ]
     },
     "execution_count": 148,
     "metadata": {},
     "output_type": "execute_result"
    }
   ],
   "source": [
    "( customer_order['items'] >= coupon_info['min_qty'] or customer_order['membership'] == 'premium' )  and coupon_info['Valid']"
   ]
  },
  {
   "cell_type": "markdown",
   "id": "695e66dd",
   "metadata": {},
   "source": [
    "#### 9. Use the following code to follow the instructions below:"
   ]
  },
  {
   "cell_type": "code",
   "execution_count": 135,
   "id": "0e702587",
   "metadata": {},
   "outputs": [],
   "source": [
    "username = 'codeup'\n",
    "password = 'notastrongpassword'"
   ]
  },
  {
   "cell_type": "markdown",
   "id": "43b70f74",
   "metadata": {},
   "source": [
    "The password must be at least 5 characters\n",
    "\n",
    "The username must be no more than 20 characters\n",
    "\n",
    "The password must not be the same as the username\n",
    "\n",
    "Bonus Neither the username or password can start or end with whitespace"
   ]
  },
  {
   "cell_type": "code",
   "execution_count": 149,
   "id": "43b5c1b7",
   "metadata": {},
   "outputs": [
    {
     "data": {
      "text/plain": [
       "(True, True, True)"
      ]
     },
     "execution_count": 149,
     "metadata": {},
     "output_type": "execute_result"
    }
   ],
   "source": [
    "short_pass = len(password) > 5\n",
    "long_pass = len(password) <= 20\n",
    "not_same = password != username\n",
    "short_pass, long_pass, not_same"
   ]
  },
  {
   "cell_type": "code",
   "execution_count": 141,
   "id": "e3e41625",
   "metadata": {},
   "outputs": [
    {
     "data": {
      "text/plain": [
       "False"
      ]
     },
     "execution_count": 141,
     "metadata": {},
     "output_type": "execute_result"
    }
   ],
   "source": [
    "username = 'codeup'\n",
    "password = 'notastrongpassword'\n",
    "\n",
    "username_last = len(username) - 1\n",
    "password_last = len(password) - 1\n",
    "username[0] != ' ' and username[username_last] != ' ' and password[0] != ' ' and password_last != ' '"
   ]
  },
  {
   "cell_type": "code",
   "execution_count": null,
   "id": "2e515fa3",
   "metadata": {},
   "outputs": [],
   "source": []
  }
 ],
 "metadata": {
  "kernelspec": {
   "display_name": "Python 3 (ipykernel)",
   "language": "python",
   "name": "python3"
  },
  "language_info": {
   "codemirror_mode": {
    "name": "ipython",
    "version": 3
   },
   "file_extension": ".py",
   "mimetype": "text/x-python",
   "name": "python",
   "nbconvert_exporter": "python",
   "pygments_lexer": "ipython3",
   "version": "3.10.9"
  }
 },
 "nbformat": 4,
 "nbformat_minor": 5
}
