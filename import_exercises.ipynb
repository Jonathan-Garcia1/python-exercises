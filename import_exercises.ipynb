{
 "cells": [
  {
   "cell_type": "code",
   "execution_count": 15,
   "metadata": {},
   "outputs": [],
   "source": [
    "from function_exercises import get_letter_grade as lg\n",
    "import function_exercises"
   ]
  },
  {
   "cell_type": "code",
   "execution_count": 16,
   "metadata": {},
   "outputs": [],
   "source": [
    "import itertools"
   ]
  },
  {
   "cell_type": "code",
   "execution_count": 17,
   "metadata": {},
   "outputs": [
    {
     "name": "stdout",
     "output_type": "stream",
     "text": [
      "[('a', 1), ('a', 2), ('a', 3), ('b', 1), ('b', 2), ('b', 3), ('c', 1), ('c', 2), ('c', 3)]\n"
     ]
    },
    {
     "data": {
      "text/plain": [
       "9"
      ]
     },
     "execution_count": 17,
     "metadata": {},
     "output_type": "execute_result"
    }
   ],
   "source": [
    "letters = ['a','b','c']\n",
    "numbers = [1,2,3]\n",
    "prod = list(itertools.product(letters, numbers))\n",
    "print(prod)\n",
    "len(prod)"
   ]
  },
  {
   "cell_type": "code",
   "execution_count": 18,
   "metadata": {},
   "outputs": [
    {
     "name": "stdout",
     "output_type": "stream",
     "text": [
      "[('a', 'b'), ('a', 'c'), ('a', 'd'), ('b', 'c'), ('b', 'd'), ('c', 'd')]\n"
     ]
    },
    {
     "data": {
      "text/plain": [
       "6"
      ]
     },
     "execution_count": 18,
     "metadata": {},
     "output_type": "execute_result"
    }
   ],
   "source": [
    "lettersd = ['a','b','c','d']\n",
    "\n",
    "comb = list(itertools.combinations(lettersd, 2))\n",
    "print(comb)\n",
    "len(comb)\n"
   ]
  },
  {
   "cell_type": "code",
   "execution_count": 19,
   "metadata": {},
   "outputs": [
    {
     "name": "stdout",
     "output_type": "stream",
     "text": [
      "[('a', 'b'), ('a', 'c'), ('a', 'd'), ('b', 'a'), ('b', 'c'), ('b', 'd'), ('c', 'a'), ('c', 'b'), ('c', 'd'), ('d', 'a'), ('d', 'b'), ('d', 'c')]\n"
     ]
    },
    {
     "data": {
      "text/plain": [
       "12"
      ]
     },
     "execution_count": 19,
     "metadata": {},
     "output_type": "execute_result"
    }
   ],
   "source": [
    "perm = list(itertools.permutations(lettersd, 2))\n",
    "print(perm)\n",
    "len(perm)"
   ]
  },
  {
   "cell_type": "code",
   "execution_count": 20,
   "metadata": {},
   "outputs": [],
   "source": [
    "import json\n",
    "\n",
    "users = json.load(open('profiles.json'))\n"
   ]
  },
  {
   "cell_type": "code",
   "execution_count": 21,
   "metadata": {},
   "outputs": [
    {
     "data": {
      "text/plain": [
       "{'_id': '54e23c3e46ab53a440b580e8',\n",
       " 'index': 0,\n",
       " 'guid': '9962b468-ef3e-4993-b677-617469bc3008',\n",
       " 'isActive': False,\n",
       " 'balance': '$2,097.02',\n",
       " 'picture': 'http://placehold.it/32x32',\n",
       " 'age': 39,\n",
       " 'eyeColor': 'blue',\n",
       " 'name': 'Hebert Estes',\n",
       " 'gender': 'male',\n",
       " 'company': 'ANDRYX',\n",
       " 'email': 'hebertestes@andryx.com',\n",
       " 'phone': '+1 (866) 456-2268',\n",
       " 'address': '121 Emmons Avenue, Klondike, Kentucky, 5975',\n",
       " 'about': 'Sit cillum deserunt irure laboris tempor fugiat laboris. Amet commodo amet est incididunt. Dolore qui fugiat cillum pariatur dolore excepteur elit ipsum.\\r\\n',\n",
       " 'registered': '2014-11-10T01:44:03 +06:00',\n",
       " 'latitude': -80.157843,\n",
       " 'longitude': 161.93016,\n",
       " 'tags': ['sit', 'occaecat', 'non', 'ea', 'sit', 'laboris', 'exercitation'],\n",
       " 'friends': [{'id': 0, 'name': 'Tanisha Leonard'},\n",
       "  {'id': 1, 'name': 'Dennis Wilson'},\n",
       "  {'id': 2, 'name': 'Lupe Howe'}],\n",
       " 'greeting': 'Hello, Hebert Estes! You have 4 unread messages.',\n",
       " 'favoriteFruit': 'strawberry'}"
      ]
     },
     "execution_count": 21,
     "metadata": {},
     "output_type": "execute_result"
    }
   ],
   "source": [
    "users[0]"
   ]
  },
  {
   "cell_type": "code",
   "execution_count": 22,
   "metadata": {},
   "outputs": [],
   "source": [
    "t_users = len(users)"
   ]
  },
  {
   "cell_type": "code",
   "execution_count": 23,
   "metadata": {},
   "outputs": [
    {
     "name": "stdout",
     "output_type": "stream",
     "text": [
      "9\n"
     ]
    }
   ],
   "source": [
    "act_users = 0\n",
    "\n",
    "for param in users:\n",
    "    if param['isActive'] == True:\n",
    "        act_users += 1\n",
    "\n",
    "print(act_users)\n"
   ]
  },
  {
   "cell_type": "code",
   "execution_count": 24,
   "metadata": {},
   "outputs": [
    {
     "name": "stdout",
     "output_type": "stream",
     "text": [
      "10\n"
     ]
    }
   ],
   "source": [
    "ina_users = 0\n",
    "\n",
    "for param in users:\n",
    "    if param['isActive'] == False:\n",
    "        ina_users += 1\n",
    "\n",
    "print(ina_users)\n"
   ]
  },
  {
   "cell_type": "code",
   "execution_count": null,
   "metadata": {},
   "outputs": [],
   "source": []
  },
  {
   "cell_type": "code",
   "execution_count": 25,
   "metadata": {},
   "outputs": [
    {
     "name": "stdout",
     "output_type": "stream",
     "text": [
      "52667.02\n"
     ]
    }
   ],
   "source": [
    "t_balance = 0\n",
    "\n",
    "for param in users:\n",
    "    t_balance += float(function_exercises.normalized_int(param['balance']))\n",
    "print(t_balance)"
   ]
  },
  {
   "cell_type": "code",
   "execution_count": 26,
   "metadata": {},
   "outputs": [
    {
     "data": {
      "text/plain": [
       "'2097.02'"
      ]
     },
     "execution_count": 26,
     "metadata": {},
     "output_type": "execute_result"
    }
   ],
   "source": [
    "function_exercises.normalized_int('$2,097.02')"
   ]
  },
  {
   "cell_type": "code",
   "execution_count": 27,
   "metadata": {},
   "outputs": [
    {
     "data": {
      "text/plain": [
       "2771.9484210526316"
      ]
     },
     "execution_count": 27,
     "metadata": {},
     "output_type": "execute_result"
    }
   ],
   "source": [
    "t_balance / t_users"
   ]
  },
  {
   "cell_type": "code",
   "execution_count": 30,
   "metadata": {},
   "outputs": [
    {
     "data": {
      "text/plain": [
       "1214.1"
      ]
     },
     "execution_count": 30,
     "metadata": {},
     "output_type": "execute_result"
    }
   ],
   "source": [
    "balances_list = []\n",
    "\n",
    "for param in users:\n",
    "    balances_list.append(float(function_exercises.normalized_int(param['balance'])))\n",
    "min(balances_list)\n"
   ]
  },
  {
   "cell_type": "code",
   "execution_count": 31,
   "metadata": {},
   "outputs": [
    {
     "data": {
      "text/plain": [
       "3919.64"
      ]
     },
     "execution_count": 31,
     "metadata": {},
     "output_type": "execute_result"
    }
   ],
   "source": [
    "balances_list = []\n",
    "\n",
    "for param in users:\n",
    "    balances_list.append(float(function_exercises.normalized_int(param['balance'])))\n",
    "max(balances_list)\n"
   ]
  },
  {
   "cell_type": "code",
   "execution_count": 38,
   "metadata": {},
   "outputs": [
    {
     "name": "stdout",
     "output_type": "stream",
     "text": [
      "['strawberry', 'apple', 'apple', 'banana', 'apple', 'apple', 'banana', 'strawberry', 'strawberry', 'banana', 'strawberry', 'strawberry', 'apple', 'strawberry', 'strawberry', 'banana', 'strawberry', 'apple', 'strawberry']\n",
      "[9, 6, 6, 4, 6, 6, 4, 9, 9, 4, 9, 9, 6, 9, 9, 4, 9, 6, 9]\n"
     ]
    },
    {
     "ename": "TypeError",
     "evalue": "'builtin_function_or_method' object is not subscriptable",
     "output_type": "error",
     "traceback": [
      "\u001b[0;31m---------------------------------------------------------------------------\u001b[0m",
      "\u001b[0;31mTypeError\u001b[0m                                 Traceback (most recent call last)",
      "Cell \u001b[0;32mIn[38], line 10\u001b[0m\n\u001b[1;32m      8\u001b[0m     c_fruit\u001b[39m.\u001b[39mappend(fruit_list\u001b[39m.\u001b[39mcount(fruit))\n\u001b[1;32m      9\u001b[0m \u001b[39mprint\u001b[39m(c_fruit)\n\u001b[0;32m---> 10\u001b[0m fruit_list\u001b[39m.\u001b[39;49mindex[(\u001b[39mmax\u001b[39;49m(c_fruit))]\n",
      "\u001b[0;31mTypeError\u001b[0m: 'builtin_function_or_method' object is not subscriptable"
     ]
    }
   ],
   "source": [
    "fruit_list = []\n",
    "c_fruit = []\n",
    "\n",
    "for param in users:\n",
    "    fruit_list.append(param['favoriteFruit'])\n",
    "print(fruit_list)\n",
    "for fruit in fruit_list:\n",
    "    c_fruit.append(fruit_list.count(fruit))\n",
    "print(c_fruit)\n",
    "fruit_list.index[(max(c_fruit))]\n"
   ]
  },
  {
   "cell_type": "code",
   "execution_count": null,
   "metadata": {},
   "outputs": [],
   "source": []
  }
 ],
 "metadata": {
  "kernelspec": {
   "display_name": "Python 3",
   "language": "python",
   "name": "python3"
  },
  "language_info": {
   "codemirror_mode": {
    "name": "ipython",
    "version": 3
   },
   "file_extension": ".py",
   "mimetype": "text/x-python",
   "name": "python",
   "nbconvert_exporter": "python",
   "pygments_lexer": "ipython3",
   "version": "3.9.6"
  },
  "orig_nbformat": 4
 },
 "nbformat": 4,
 "nbformat_minor": 2
}
