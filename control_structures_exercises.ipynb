{
 "cells": [
  {
   "cell_type": "markdown",
   "id": "0d6f20c3",
   "metadata": {},
   "source": []
  },
  {
   "cell_type": "markdown",
   "id": "4fd5168d",
   "metadata": {},
   "source": [
    "### 1. Conditional Basics\n",
    "#### * Prompt the user for a day of the week, print out whether the day is Monday or not"
   ]
  },
  {
   "cell_type": "code",
   "execution_count": 13,
   "id": "a643724b",
   "metadata": {},
   "outputs": [
    {
     "name": "stdout",
     "output_type": "stream",
     "text": [
      "Enter day of the weeksmonday\n",
      "its monday!\n"
     ]
    }
   ],
   "source": [
    "curday = 'monday'\n",
    "\n",
    "day = input('Enter day of the weeks')\n",
    "\n",
    "if day == curday:\n",
    "    print('its monday!')\n"
   ]
  },
  {
   "cell_type": "markdown",
   "id": "0cf5fbb6",
   "metadata": {},
   "source": [
    "#### * Prompt the user for a day of the week, print out whether the day is a weekday or a weekend"
   ]
  },
  {
   "cell_type": "code",
   "execution_count": 30,
   "id": "ab22b550",
   "metadata": {},
   "outputs": [
    {
     "name": "stdout",
     "output_type": "stream",
     "text": [
      "Enter day of the weekssaturday\n",
      "weekend\n"
     ]
    }
   ],
   "source": [
    "weekday = ['monday', 'tuesday', 'wednesday', 'thurday', 'friday']\n",
    "weekend = ['saturday', 'sunday']\n",
    "\n",
    "\n",
    "day = input('Enter day of the weeks')\n",
    "\n",
    "if day in weekday:\n",
    "    print('weekday')\n",
    "else:\n",
    "    print('weekend')"
   ]
  },
  {
   "cell_type": "markdown",
   "id": "888ad408",
   "metadata": {},
   "source": [
    "#### * Calculate a weekly paycheck, accounting for overtime pay. Create variables and make up values for:\n",
    "    * The number of hours worked in one week\n",
    "    * The hourly rate\n",
    "    * For calculating pay:\n",
    "        * For working 40 hours or less, each hour is paid at the hourly rate\n",
    "        * For working more than 40 hours\n",
    "            * the first 40 hours are paid at the hourly rate\n",
    "            * each hour after 40 is paid at time and a half (hourly rate * 1.5)"
   ]
  },
  {
   "cell_type": "code",
   "execution_count": 183,
   "id": "9c502703",
   "metadata": {},
   "outputs": [
    {
     "name": "stdout",
     "output_type": "stream",
     "text": [
      "1650.0\n"
     ]
    }
   ],
   "source": [
    "worked_hrs = 50\n",
    "hourly_rate = 30\n",
    "\n",
    "if worked_hrs <= 40:\n",
    "    print(worked_hrs * hourly_rate)\n",
    "else:\n",
    "    print((worked_hrs - 40) * hourly_rate * 1.5 + (hourly_rate*40))\n"
   ]
  },
  {
   "cell_type": "markdown",
   "id": "1bdb8262",
   "metadata": {},
   "source": [
    "#### 2. Loop Basics\n",
    "#### * While\n",
    "    * Create an integer variable i with a value of 5. Create a while loop that runs so long as i is less than or equal to 15. Each loop iteration, output the current value of i, then increment i by one."
   ]
  },
  {
   "cell_type": "code",
   "execution_count": 46,
   "id": "83474af8",
   "metadata": {},
   "outputs": [
    {
     "name": "stdout",
     "output_type": "stream",
     "text": [
      "5\n",
      "6\n",
      "7\n",
      "8\n",
      "9\n",
      "10\n",
      "11\n",
      "12\n",
      "13\n",
      "14\n",
      "15\n"
     ]
    }
   ],
   "source": [
    "i = 5\n",
    "\n",
    "while i <= 15:\n",
    "    \n",
    "    print(i)\n",
    "\n",
    "    i += 1\n",
    "    \n"
   ]
  },
  {
   "cell_type": "markdown",
   "id": "4da24127",
   "metadata": {},
   "source": [
    "#### * Create a while loop that will count by 2's starting with 0 and ending at 100. Follow each number with a new line."
   ]
  },
  {
   "cell_type": "code",
   "execution_count": 49,
   "id": "ca28fdea",
   "metadata": {},
   "outputs": [
    {
     "name": "stdout",
     "output_type": "stream",
     "text": [
      "0\n",
      "2\n",
      "4\n",
      "6\n",
      "8\n",
      "10\n",
      "12\n",
      "14\n",
      "16\n",
      "18\n",
      "20\n",
      "22\n",
      "24\n",
      "26\n",
      "28\n",
      "30\n",
      "32\n",
      "34\n",
      "36\n",
      "38\n",
      "40\n",
      "42\n",
      "44\n",
      "46\n",
      "48\n",
      "50\n",
      "52\n",
      "54\n",
      "56\n",
      "58\n",
      "60\n",
      "62\n",
      "64\n",
      "66\n",
      "68\n",
      "70\n",
      "72\n",
      "74\n",
      "76\n",
      "78\n",
      "80\n",
      "82\n",
      "84\n",
      "86\n",
      "88\n",
      "90\n",
      "92\n",
      "94\n",
      "96\n",
      "98\n",
      "100\n"
     ]
    }
   ],
   "source": [
    "i = 0\n",
    "\n",
    "while i <= 101:\n",
    "    print(i)\n",
    "    i += 2"
   ]
  },
  {
   "cell_type": "markdown",
   "id": "17dfd828",
   "metadata": {},
   "source": [
    "#### Create a while loop that starts at 2, and displays the number squared on each line while the number is less than 1,000,000. Output should equal:"
   ]
  },
  {
   "cell_type": "code",
   "execution_count": 185,
   "id": "7755ddfd",
   "metadata": {},
   "outputs": [
    {
     "name": "stdout",
     "output_type": "stream",
     "text": [
      "2\n",
      "4\n",
      "16\n",
      "256\n",
      "65536\n"
     ]
    }
   ],
   "source": [
    "i = 2\n",
    "\n",
    "while i < 1_000_000:\n",
    "    print (i)\n",
    "    i = i ** 2"
   ]
  },
  {
   "cell_type": "markdown",
   "id": "8b85a7ab",
   "metadata": {},
   "source": [
    "#### Write a while loop that uses print to create the output shown below."
   ]
  },
  {
   "cell_type": "code",
   "execution_count": 53,
   "id": "f5b6358b",
   "metadata": {},
   "outputs": [
    {
     "name": "stdout",
     "output_type": "stream",
     "text": [
      "100\n",
      "95\n",
      "90\n",
      "85\n",
      "80\n",
      "75\n",
      "70\n",
      "65\n",
      "60\n",
      "55\n",
      "50\n",
      "45\n",
      "40\n",
      "35\n",
      "30\n",
      "25\n",
      "20\n",
      "15\n",
      "10\n",
      "5\n"
     ]
    }
   ],
   "source": [
    "i = 100\n",
    "\n",
    "while i >= 5:\n",
    "    print(i)\n",
    "    i -= 5"
   ]
  },
  {
   "cell_type": "markdown",
   "id": "d85db718",
   "metadata": {},
   "source": [
    "#### For Loops\n",
    "#### * Write some code using a for loop that prompts the user for a number, then shows a multiplication table up through 10 for that number.\n"
   ]
  },
  {
   "cell_type": "code",
   "execution_count": 72,
   "id": "e34bc078",
   "metadata": {},
   "outputs": [
    {
     "name": "stdout",
     "output_type": "stream",
     "text": [
      "Enter a number5\n",
      "5 x 1 = 5\n",
      "5 x 2 = 10\n",
      "5 x 3 = 15\n",
      "5 x 4 = 20\n",
      "5 x 5 = 25\n",
      "5 x 6 = 30\n",
      "5 x 7 = 35\n",
      "5 x 8 = 40\n",
      "5 x 9 = 45\n",
      "5 x 10 = 50\n"
     ]
    }
   ],
   "source": [
    "i = input('Enter a number')\n",
    "\n",
    "for m in range(1,11):\n",
    "    print( str(i) + ' x ' + str(m) + ' = ' + str(int(i)*int(m)) )\n",
    "    \n",
    "    #print(f'{your_num} x {m} = {your_num * i}')"
   ]
  },
  {
   "cell_type": "markdown",
   "id": "0a87dee2",
   "metadata": {},
   "source": [
    "#### Create a for loop that uses print to create the output shown below."
   ]
  },
  {
   "cell_type": "code",
   "execution_count": 110,
   "id": "e8d3e5cc",
   "metadata": {
    "scrolled": true
   },
   "outputs": [
    {
     "name": "stdout",
     "output_type": "stream",
     "text": [
      "1\n",
      "22\n",
      "333\n",
      "4444\n",
      "55555\n",
      "666666\n",
      "7777777\n",
      "88888888\n",
      "999999999\n"
     ]
    }
   ],
   "source": [
    "for i in range(1,10):\n",
    "    print(str(i)*i)"
   ]
  },
  {
   "cell_type": "markdown",
   "id": "03f558a0",
   "metadata": {},
   "source": [
    "#### * break and continue\n",
    "    * Write a program that prompts the user for a positive integer. Next write a loop that prints out the numbers from the number the user entered down to 1."
   ]
  },
  {
   "cell_type": "code",
   "execution_count": 187,
   "id": "79d055ee",
   "metadata": {},
   "outputs": [
    {
     "name": "stdout",
     "output_type": "stream",
     "text": [
      "Enter a number5\n",
      "5\n",
      "4\n",
      "3\n",
      "2\n",
      "1\n",
      "1\n",
      "end of positive numbers\n"
     ]
    }
   ],
   "source": [
    "i = int(input('Enter a number'))\n",
    "\n",
    "while True:\n",
    "    print(i)\n",
    "    if i == 1: \n",
    "        print(i)\n",
    "        print ('end of positive numbers')\n",
    "        break\n",
    "    i -= 1"
   ]
  },
  {
   "cell_type": "markdown",
   "id": "74dcd045",
   "metadata": {},
   "source": [
    "     * The input function can be used to prompt for input and use that input in your python code. Prompt the user to enter a positive number and write a loop that counts from 0 to that number. (Hints: note that the input function returns a string, so you'll need to convert this to a numeric type.)"
   ]
  },
  {
   "cell_type": "code",
   "execution_count": 102,
   "id": "535cbca1",
   "metadata": {},
   "outputs": [
    {
     "name": "stdout",
     "output_type": "stream",
     "text": [
      "Enter a number5\n",
      "0\n",
      "1\n",
      "2\n",
      "3\n",
      "4\n",
      "5\n",
      "5\n",
      "reached goal!\n"
     ]
    }
   ],
   "source": [
    "i = int(input('Enter a number'))\n",
    "count = 0\n",
    "\n",
    "while count <= i:\n",
    "    print(count)\n",
    "    if count == i:\n",
    "        print(i)\n",
    "        print('reached goal!')\n",
    "        break\n",
    "    count += 1\n",
    "        "
   ]
  },
  {
   "cell_type": "markdown",
   "id": "90dfcf16",
   "metadata": {},
   "source": [
    "    * Prompt the user for an odd number between 1 and 50. Use a loop and a break statement to continue prompting the user if they enter invalid input. (Hint: use the isdigit method on strings to determine this). Use a loop and the continue statement to output all the odd numbers between 1 and 50, except for the number the user entered."
   ]
  },
  {
   "cell_type": "code",
   "execution_count": 144,
   "id": "a2df2584",
   "metadata": {},
   "outputs": [
    {
     "name": "stdout",
     "output_type": "stream",
     "text": [
      "Enter an odd number between 1 and 505\n",
      "Here is an odd number:  1\n",
      "Here is an odd number:  3\n",
      "Yikes! Skipping number:  5\n",
      "Here is an odd number:  7\n",
      "Here is an odd number:  9\n",
      "Here is an odd number:  11\n",
      "Here is an odd number:  13\n",
      "Here is an odd number:  15\n",
      "Here is an odd number:  17\n",
      "Here is an odd number:  19\n",
      "Here is an odd number:  21\n",
      "Here is an odd number:  23\n",
      "Here is an odd number:  25\n",
      "Here is an odd number:  27\n",
      "Here is an odd number:  29\n",
      "Here is an odd number:  31\n",
      "Here is an odd number:  33\n",
      "Here is an odd number:  35\n",
      "Here is an odd number:  37\n",
      "Here is an odd number:  39\n",
      "Here is an odd number:  41\n",
      "Here is an odd number:  43\n",
      "Here is an odd number:  45\n",
      "Here is an odd number:  47\n",
      "Here is an odd number:  49\n"
     ]
    }
   ],
   "source": [
    "i = int(input('Enter an odd number between 1 and 50'))\n",
    "\n",
    "while i % 2 == 0:\n",
    "    i = int(input('Enter an odd number between 1 and 50'))\n",
    "    continue\n",
    "for num in range(1,51):\n",
    "    if num == i:\n",
    "        print('Yikes! Skipping number: ', i)\n",
    "        continue\n",
    "    elif num % 2 != 0:\n",
    "        print('Here is an odd number: ', num)"
   ]
  },
  {
   "cell_type": "code",
   "execution_count": 193,
   "id": "f8848ef4",
   "metadata": {},
   "outputs": [
    {
     "name": "stdout",
     "output_type": "stream",
     "text": [
      "Enter an odd number between 1 and 505\n",
      "Here is an odd number:  1\n",
      "Here is an odd number:  3\n",
      "Yikes! Skipping number:  5\n",
      "Here is an odd number:  7\n",
      "Here is an odd number:  9\n",
      "Here is an odd number:  11\n",
      "Here is an odd number:  13\n",
      "Here is an odd number:  15\n",
      "Here is an odd number:  17\n",
      "Here is an odd number:  19\n",
      "Here is an odd number:  21\n",
      "Here is an odd number:  23\n",
      "Here is an odd number:  25\n",
      "Here is an odd number:  27\n",
      "Here is an odd number:  29\n",
      "Here is an odd number:  31\n",
      "Here is an odd number:  33\n",
      "Here is an odd number:  35\n",
      "Here is an odd number:  37\n",
      "Here is an odd number:  39\n",
      "Here is an odd number:  41\n",
      "Here is an odd number:  43\n",
      "Here is an odd number:  45\n",
      "Here is an odd number:  47\n",
      "Here is an odd number:  49\n"
     ]
    }
   ],
   "source": [
    "i = int(input('Enter an odd number between 1 and 50'))\n",
    "\n",
    "while i % 2 == 0:\n",
    "    i = int(input('Enter an odd number between 1 and 50'))\n",
    "    continue\n",
    "for num in range(1,51):\n",
    "    if num == i:\n",
    "        print('Yikes! Skipping number: ', i)\n",
    "    elif num % 2 != 0:\n",
    "        print('Here is an odd number: ', num)"
   ]
  },
  {
   "cell_type": "markdown",
   "id": "cbe27e91",
   "metadata": {},
   "source": [
    "1. Fizzbuzz ",
    "One of the most common interview questions for entry-level programmers is the FizzBuzz test. Developed by Imran Ghory, the test is designed to test basic looping and conditional logic skills.\n",
    "    * Write a program that prints the numbers from 1 to 100.\n",
    "    * For multiples of three print \"Fizz\" instead of the number\n",
    "    * For the multiples of five print \"Buzz\".\n",
    "    * For numbers which are multiples of both three and five print \"FizzBuzz\".\n"
   ]
  },
  {
   "cell_type": "code",
   "execution_count": 148,
   "id": "a7603869",
   "metadata": {},
   "outputs": [
    {
     "name": "stdout",
     "output_type": "stream",
     "text": [
      "1\n",
      "2\n",
      "Fizz\n",
      "3\n",
      "4\n",
      "Buzz\n",
      "5\n",
      "Fizz\n",
      "6\n",
      "7\n",
      "8\n",
      "Fizz\n",
      "9\n",
      "Buzz\n",
      "10\n",
      "11\n",
      "Fizz\n",
      "12\n",
      "13\n",
      "14\n",
      "FizzBuzz\n",
      "15\n",
      "16\n",
      "17\n",
      "Fizz\n",
      "18\n",
      "19\n",
      "Buzz\n",
      "20\n",
      "Fizz\n",
      "21\n",
      "22\n",
      "23\n",
      "Fizz\n",
      "24\n",
      "Buzz\n",
      "25\n",
      "26\n",
      "Fizz\n",
      "27\n",
      "28\n",
      "29\n",
      "FizzBuzz\n",
      "30\n",
      "31\n",
      "32\n",
      "Fizz\n",
      "33\n",
      "34\n",
      "Buzz\n",
      "35\n",
      "Fizz\n",
      "36\n",
      "37\n",
      "38\n",
      "Fizz\n",
      "39\n",
      "Buzz\n",
      "40\n",
      "41\n",
      "Fizz\n",
      "42\n",
      "43\n",
      "44\n",
      "FizzBuzz\n",
      "45\n",
      "46\n",
      "47\n",
      "Fizz\n",
      "48\n",
      "49\n",
      "Buzz\n",
      "50\n",
      "Fizz\n",
      "51\n",
      "52\n",
      "53\n",
      "Fizz\n",
      "54\n",
      "Buzz\n",
      "55\n",
      "56\n",
      "Fizz\n",
      "57\n",
      "58\n",
      "59\n",
      "FizzBuzz\n",
      "60\n",
      "61\n",
      "62\n",
      "Fizz\n",
      "63\n",
      "64\n",
      "Buzz\n",
      "65\n",
      "Fizz\n",
      "66\n",
      "67\n",
      "68\n",
      "Fizz\n",
      "69\n",
      "Buzz\n",
      "70\n",
      "71\n",
      "Fizz\n",
      "72\n",
      "73\n",
      "74\n",
      "FizzBuzz\n",
      "75\n",
      "76\n",
      "77\n",
      "Fizz\n",
      "78\n",
      "79\n",
      "Buzz\n",
      "80\n",
      "Fizz\n",
      "81\n",
      "82\n",
      "83\n",
      "Fizz\n",
      "84\n",
      "Buzz\n",
      "85\n",
      "86\n",
      "Fizz\n",
      "87\n",
      "88\n",
      "89\n",
      "FizzBuzz\n",
      "90\n",
      "91\n",
      "92\n",
      "Fizz\n",
      "93\n",
      "94\n",
      "Buzz\n",
      "95\n",
      "Fizz\n",
      "96\n",
      "97\n",
      "98\n",
      "Fizz\n",
      "99\n",
      "Buzz\n",
      "100\n"
     ]
    }
   ],
   "source": [
    "for num in range(1,101):\n",
    "    if num % 3 == 0 and num % 5 == 0:\n",
    "        print('FizzBuzz')    \n",
    "    elif num % 3 == 0:\n",
    "        print('Fizz')\n",
    "    elif num % 5 == 0:\n",
    "        print('Buzz')\n",
    "    print(num)"
   ]
  },
  {
   "cell_type": "markdown",
   "id": "b4bd7776",
   "metadata": {},
   "source": [
    "#### Display a table of powers.\n",
    "* Prompt the user to enter an integer\n",
    "* Display a table of squares and cubes from 1 to the value entered\n",
    "* Ask if the user wants to continue\n",
    "* Assume that the user will enter valid data\n",
    "* Only continue if the user agrees to\n"
   ]
  },
  {
   "cell_type": "code",
   "execution_count": 153,
   "id": "1bac4a90",
   "metadata": {},
   "outputs": [
    {
     "name": "stdout",
     "output_type": "stream",
     "text": [
      "What number would you like to go up to?5\n",
      "Here is your table!\n",
      "number squared cubed\n",
      "1 1 1\n",
      "2 4 8\n",
      "3 9 27\n",
      "4 16 64\n",
      "5 25 125\n"
     ]
    }
   ],
   "source": [
    "i = int(input('What number would you like to go up to?'))\n",
    "\n",
    "print('Here is your table!')\n",
    "print('number', 'squared', 'cubed')\n",
    "    \n",
    "for num in range(1,i+1):\n",
    "\n",
    "\n",
    "    print(num, num*num, num*num*num)"
   ]
  },
  {
   "cell_type": "markdown",
   "id": "34d92d52",
   "metadata": {},
   "source": [
    "#### Convert given number grades into letter grades.\n",
    "* Prompt the user for a numerical grade from 0 to 100\n",
    "* Display the corresponding letter grade\n",
    "* Prompt the user to continue\n",
    "* Assume that the user will enter valid integers for the grades\n",
    "* The application should only continue if the user agrees to\n",
    "* Grade Ranges:\n",
    "    * A : 100 - 88\n",
    "    * B : 87 - 80\n",
    "    * C : 79 - 67\n",
    "    * D : 66 - 60\n",
    "    * F : 59 - 0\n"
   ]
  },
  {
   "cell_type": "code",
   "execution_count": 161,
   "id": "083f3791",
   "metadata": {},
   "outputs": [
    {
     "name": "stdout",
     "output_type": "stream",
     "text": [
      "enter your grade87\n",
      "B\n",
      "87\n"
     ]
    }
   ],
   "source": [
    "i = int(input('enter your grade'))\n",
    "\n",
    "if i < 60:\n",
    "    print('F')\n",
    "elif i < 67:\n",
    "    print('D')\n",
    "elif i < 80:\n",
    "    print('C')\n",
    "elif i < 88:\n",
    "    print('B')\n",
    "else:\n",
    "    print('A')\n",
    "print(i)"
   ]
  },
  {
   "cell_type": "markdown",
   "id": "f6f1a51b",
   "metadata": {},
   "source": [
    "#### Create a list of dictionaries where each dictionary represents a book that you have read. Each dictionary in the list should have the keys title, author, and genre. Loop through the list and print out information about each book.\n",
    "* Prompt the user to enter a genre, then loop through your books list and print out the titles of all the books in that genre.\n"
   ]
  },
  {
   "cell_type": "code",
   "execution_count": 162,
   "id": "6cc505bc",
   "metadata": {},
   "outputs": [
    {
     "name": "stdout",
     "output_type": "stream",
     "text": [
      "Title: Book 1\n",
      "Author: Author 1\n",
      "Genre: Fiction\n",
      "\n",
      "Title: Book 2\n",
      "Author: Author 2\n",
      "Genre: Fantasy\n",
      "\n",
      "Title: Book 3\n",
      "Author: Author 3\n",
      "Genre: Mystery\n",
      "\n",
      "Title: Book 4\n",
      "Author: Author 4\n",
      "Genre: Fiction\n",
      "\n"
     ]
    }
   ],
   "source": [
    "books = [\n",
    "    {\"title\": \"Book 1\", \"author\": \"Author 1\", \"genre\": \"Fiction\"},\n",
    "    {\"title\": \"Book 2\", \"author\": \"Author 2\", \"genre\": \"Fantasy\"},\n",
    "    {\"title\": \"Book 3\", \"author\": \"Author 3\", \"genre\": \"Mystery\"},\n",
    "    {\"title\": \"Book 4\", \"author\": \"Author 4\", \"genre\": \"Fiction\"},\n",
    "]\n",
    "for book in books:\n",
    "    print(\"Title:\", book[\"title\"])\n",
    "    print(\"Author:\", book[\"author\"])\n",
    "    print(\"Genre:\", book[\"genre\"])\n",
    "    print()"
   ]
  },
  {
   "cell_type": "markdown",
   "id": "a8079511",
   "metadata": {},
   "source": [
    "Prompt the user to enter a genre, then loop through your books list and print out the titles of all the books in that genre."
   ]
  },
  {
   "cell_type": "code",
   "execution_count": 171,
   "id": "05ea9b3f",
   "metadata": {},
   "outputs": [
    {
     "name": "stdout",
     "output_type": "stream",
     "text": [
      "Enter a genre: Fiction\n",
      "Books in the Fiction genre:\n",
      "Book 1\n",
      "Book 4\n"
     ]
    }
   ],
   "source": [
    "user_genre = input(\"Enter a genre: \")\n",
    "\n",
    "print(\"Books in the\", user_genre, \"genre:\")\n",
    "for mb in books:\n",
    "    if mb[\"genre\"] == user_genre:\n",
    "        print(mb[\"title\"])"
   ]
  },
  {
   "cell_type": "markdown",
   "id": "2ca8c844",
   "metadata": {},
   "source": [
    "For your Power of Tables exercise, research python's format string specifiers to align the table"
   ]
  },
  {
   "cell_type": "code",
   "execution_count": 180,
   "id": "770422f6",
   "metadata": {},
   "outputs": [
    {
     "name": "stdout",
     "output_type": "stream",
     "text": [
      "What number would you like to go up to? 5\n",
      "\n",
      "number| squared | cubed \n",
      "----------------------------\n",
      "1     | 1       | 1     \n",
      "2     | 4       | 8     \n",
      "3     | 9       | 27    \n",
      "4     | 16      | 64    \n",
      "5     | 25      | 125   \n"
     ]
    }
   ],
   "source": [
    "i = int(input('What number would you like to go up to? '))\n",
    "print()\n",
    "print('{:<6}| {:<8}| {:<6}'.format('number', 'squared', 'cubed'))\n",
    "print('-' * 28)\n",
    "\n",
    "for num in range(1, i + 1):\n",
    "    print('{:<6}| {:<8}| {:<6}'.format(num, num * num, num * num * num))\n"
   ]
  },
  {
   "cell_type": "markdown",
   "id": "de7b1889",
   "metadata": {},
   "source": [
    "A+: 98-100\n",
    "\n",
    "A: 93-97\n",
    "\n",
    "A-: 90-92\n",
    "\n",
    "B+: 88-89\n",
    "\n",
    "B: 83-87\n",
    "\n",
    "B-: 80-82\n",
    "\n",
    "C+: 78-79\n",
    "\n",
    "C: 73-77\n",
    "\n",
    "C-: 70-72\n",
    "\n",
    "D+: 68-69\n",
    "\n",
    "D: 63-67\n",
    "\n",
    "D-: 60-62\n",
    "\n",
    "F: 1-59"
   ]
  },
  {
   "cell_type": "code",
   "execution_count": null,
   "id": "d06de40b",
   "metadata": {},
   "outputs": [],
   "source": [
    "i = int(input('enter your grade'))\n",
    "\n",
    "if i < 60:\n",
    "    print('F')\n",
    "elif i < 67:\n",
    "    print('D')\n",
    "elif i < 80:\n",
    "    print('C')\n",
    "elif i < 88:\n",
    "    print('B')\n",
    "else:\n",
    "    print('A')\n",
    "print(i)"
   ]
  }
 ],
 "metadata": {
  "kernelspec": {
   "display_name": "Python 3 (ipykernel)",
   "language": "python",
   "name": "python3"
  },
  "language_info": {
   "codemirror_mode": {
    "name": "ipython",
    "version": 3
   },
   "file_extension": ".py",
   "mimetype": "text/x-python",
   "name": "python",
   "nbconvert_exporter": "python",
   "pygments_lexer": "ipython3",
   "version": "3.10.9"
  }
 },
 "nbformat": 4,
 "nbformat_minor": 5
}
